{
 "cells": [
  {
   "cell_type": "code",
   "execution_count": 24,
   "metadata": {},
   "outputs": [
    {
     "name": "stdout",
     "output_type": "stream",
     "text": [
      "['Porque', 'aprender', 'a', 'programar?', 'A', 'razão', 'fundamental,', 'que', 'nos', 'motivou', 'a', 'produzir', 'este', 'tutorial,', 'é', 'uma', 'só:', 'programar', 'é', 'divertido.', 'É', 'claro', 'que', 'nem', 'todo', 'mundo', 'vai', 'concordar', 'com', 'isso,', 'assim', 'como', 'muita', 'gente', 'não', 'acha', 'graça', 'nenhuma', 'em', 'jogar', 'xadrez', 'ou', 'explorar', 'cavernas.', 'Ao', 'contrário', 'do', 'xadrez', 'e', 'da', 'espeleologia,', 'a', 'programação', 'também', 'é', 'uma', 'habilidade', 'que', 'tem', 'forte', 'demanda', 'no', 'mercado', 'de', 'trabalho.']\n"
     ]
    }
   ],
   "source": [
    "with open('documento.txt', 'r') as f:    \n",
    "    word = []\n",
    "    for i in range(0,3):\n",
    "        line = f.readline() \n",
    "        word = word + line.split()\n",
    "    print(word)"
   ]
  },
  {
   "cell_type": "code",
   "execution_count": null,
   "metadata": {
    "collapsed": true
   },
   "outputs": [],
   "source": [
    "import csv\n"
   ]
  }
 ],
 "metadata": {
  "kernelspec": {
   "display_name": "Python 3",
   "language": "python",
   "name": "python3"
  },
  "language_info": {
   "codemirror_mode": {
    "name": "ipython",
    "version": 3
   },
   "file_extension": ".py",
   "mimetype": "text/x-python",
   "name": "python",
   "nbconvert_exporter": "python",
   "pygments_lexer": "ipython3",
   "version": "3.6.3"
  }
 },
 "nbformat": 4,
 "nbformat_minor": 2
}
