{
 "cells": [
  {
   "cell_type": "code",
   "execution_count": 2,
   "metadata": {},
   "outputs": [
    {
     "name": "stdout",
     "output_type": "stream",
     "text": [
      "Informe o se CEP(sem o traço)02435060\n",
      "{\n",
      "  \"cep\": \"02435-060\",\n",
      "  \"logradouro\": \"Avenida Doutor Francisco Ranieri\",\n",
      "  \"complemento\": \"até 429/430\",\n",
      "  \"bairro\": \"Lauzane Paulista\",\n",
      "  \"localidade\": \"São Paulo\",\n",
      "  \"uf\": \"SP\",\n",
      "  \"unidade\": \"\",\n",
      "  \"ibge\": \"3550308\",\n",
      "  \"gia\": \"1004\"\n",
      "}\n"
     ]
    }
   ],
   "source": [
    "import requests\n",
    "cep = input(\"Informe o se CEP(sem o traço)\")\n",
    "request= requests.get(\"http://viacep.com.br/ws/%s/json/\" % cep)\n",
    "print(request.text)\n"
   ]
  },
  {
   "cell_type": "code",
   "execution_count": null,
   "metadata": {
    "collapsed": true
   },
   "outputs": [],
   "source": []
  }
 ],
 "metadata": {
  "kernelspec": {
   "display_name": "Python 3",
   "language": "python",
   "name": "python3"
  },
  "language_info": {
   "codemirror_mode": {
    "name": "ipython",
    "version": 3
   },
   "file_extension": ".py",
   "mimetype": "text/x-python",
   "name": "python",
   "nbconvert_exporter": "python",
   "pygments_lexer": "ipython3",
   "version": "3.6.3"
  }
 },
 "nbformat": 4,
 "nbformat_minor": 2
}
