{
 "cells": [
  {
   "cell_type": "code",
   "execution_count": 1,
   "metadata": {},
   "outputs": [
    {
     "name": "stdout",
     "output_type": "stream",
     "text": [
      "Porque aprender a programar?\n",
      "\n",
      "\n",
      "\n",
      "A razão fundamental, que nos motivou a produzir este tutorial, é uma só: programar é divertido. É claro que nem todo mundo vai concordar com isso, assim como muita gente não acha graça nenhuma em jogar xadrez ou explorar cavernas. Ao contrário do xadrez e da espeleologia, a programação também é uma habilidade que tem forte demanda no mercado de trabalho.\n",
      "\n"
     ]
    }
   ],
   "source": [
    "f = open('documento.txt')\n",
    "print(f.readline())\n",
    "print(f.readline())\n",
    "print(f.readline())"
   ]
  },
  {
   "cell_type": "code",
   "execution_count": 2,
   "metadata": {},
   "outputs": [
    {
     "name": "stdout",
     "output_type": "stream",
     "text": [
      "As 3 primeiras linhas sao: Porque aprender a programar?\n",
      "\n",
      "A razão fundamental, que nos motivou a produzir este tutorial, é uma só: programar é divertido. É claro que nem todo mundo vai concordar com isso, assim como muita gente não acha graça nenhuma em jogar xadrez ou explorar cavernas. Ao contrário do xadrez e da espeleologia, a programação também é uma habilidade que tem forte demanda no mercado de trabalho.\n",
      "\n",
      "['Porque', 'aprender', 'a', 'programar?', 'A', 'razão', 'fundamental,', 'que', 'nos', 'motivou', 'a', 'produzir', 'este', 'tutorial,', 'é', 'uma', 'só:', 'programar', 'é', 'divertido.', 'É', 'claro', 'que', 'nem', 'todo', 'mundo', 'vai', 'concordar', 'com', 'isso,', 'assim', 'como', 'muita', 'gente', 'não', 'acha', 'graça', 'nenhuma', 'em', 'jogar', 'xadrez', 'ou', 'explorar', 'cavernas.', 'Ao', 'contrário', 'do', 'xadrez', 'e', 'da', 'espeleologia,', 'a', 'programação', 'também', 'é', 'uma', 'habilidade', 'que', 'tem', 'forte', 'demanda', 'no', 'mercado', 'de', 'trabalho.']\n"
     ]
    }
   ],
   "source": [
    "f = open('documento.txt')\n",
    "lista_linhas = f.readlines()\n",
    "linha = ''\n",
    "for i in range(0,3):\n",
    "    linha = linha + lista_linhas[i]\n",
    "print('As 3 primeiras linhas sao:', linha)\n",
    "print(linha.split())"
   ]
  },
  {
   "cell_type": "code",
   "execution_count": 7,
   "metadata": {},
   "outputs": [
    {
     "name": "stdout",
     "output_type": "stream",
     "text": [
      "OrderedDict([('Transaction_date', '1/2/09 6:17'), ('Product', 'Product1'), ('Price', '1200'), ('Payment_Type', 'Mastercard'), ('Name', 'carolina'), ('City', 'Basildon'), ('State', 'England'), ('Country', 'United Kingdom'), ('Account_Created', '1/2/09 6:00'), ('Last_Login', '1/2/09 6:08'), ('Latitude', '51.5'), ('Longitude', '-1.1166667')])\n"
     ]
    }
   ],
   "source": [
    "import csv\n",
    "f = open('SalesJan2009.csv')\n",
    "leitor_csv = csv.DictReader(f)\n",
    "\n",
    "dicionario = next(leitor_csv)\n",
    "print(dicionario)"
   ]
  },
  {
   "cell_type": "code",
   "execution_count": 9,
   "metadata": {},
   "outputs": [
    {
     "name": "stdout",
     "output_type": "stream",
     "text": [
      "Mastercard\n"
     ]
    }
   ],
   "source": [
    "print(dicionario['Payment_Type'])"
   ]
  },
  {
   "cell_type": "code",
   "execution_count": 13,
   "metadata": {},
   "outputs": [],
   "source": [
    "conteudo_json = { \"title\": \"Product\",    \n",
    "\"description\": \"A product from Acme's catalog\",    \n",
    "\"type\": \"object\",    \n",
    "\"properties\": { \"id\": {\"description\": \"The unique identifier for a  product\",            \n",
    "\"type\": \"integer\"}, \n",
    "\"required\": [\"id\", \"name\"]}\n",
    "}"
   ]
  },
  {
   "cell_type": "code",
   "execution_count": 26,
   "metadata": {},
   "outputs": [],
   "source": [
    "import json\n",
    "f = open('colors.json')\n",
    "dicionario = json.load(f)"
   ]
  },
  {
   "cell_type": "code",
   "execution_count": 27,
   "metadata": {},
   "outputs": [
    {
     "name": "stdout",
     "output_type": "stream",
     "text": [
      "black\n"
     ]
    },
    {
     "ename": "KeyError",
     "evalue": "'hexa'",
     "output_type": "error",
     "traceback": [
      "\u001b[1;31m---------------------------------------------------------------------------\u001b[0m",
      "\u001b[1;31mKeyError\u001b[0m                                  Traceback (most recent call last)",
      "\u001b[1;32m<ipython-input-27-a888b89fc547>\u001b[0m in \u001b[0;36m<module>\u001b[1;34m()\u001b[0m\n\u001b[0;32m      1\u001b[0m \u001b[1;32mfor\u001b[0m \u001b[0mcor\u001b[0m \u001b[1;32min\u001b[0m \u001b[0mdicionario\u001b[0m\u001b[1;33m[\u001b[0m\u001b[1;34m'colors'\u001b[0m\u001b[1;33m]\u001b[0m\u001b[1;33m:\u001b[0m\u001b[1;33m\u001b[0m\u001b[0m\n\u001b[0;32m      2\u001b[0m     \u001b[0mprint\u001b[0m \u001b[1;33m(\u001b[0m\u001b[0mcor\u001b[0m\u001b[1;33m[\u001b[0m\u001b[1;34m'color'\u001b[0m\u001b[1;33m]\u001b[0m\u001b[1;33m)\u001b[0m\u001b[1;33m\u001b[0m\u001b[0m\n\u001b[1;32m----> 3\u001b[1;33m     \u001b[0mprint\u001b[0m \u001b[1;33m(\u001b[0m\u001b[0mcor\u001b[0m\u001b[1;33m[\u001b[0m\u001b[1;34m'code'\u001b[0m\u001b[1;33m]\u001b[0m\u001b[1;33m[\u001b[0m\u001b[1;34m'hexa'\u001b[0m\u001b[1;33m]\u001b[0m\u001b[1;33m)\u001b[0m\u001b[1;33m\u001b[0m\u001b[0m\n\u001b[0m",
      "\u001b[1;31mKeyError\u001b[0m: 'hexa'"
     ]
    }
   ],
   "source": [
    "for cor in dicionario['colors']:\n",
    "    print (cor['color'])\n",
    "    print (cor['code']['hexa'])"
   ]
  },
  {
   "cell_type": "code",
   "execution_count": null,
   "metadata": {},
   "outputs": [],
   "source": [
    "import\n",
    "requests\n",
    "cep\n",
    "= input\n",
    "(\n",
    "\"Informe \n",
    "o seu \n",
    "CEP (sem o traço\"\n",
    ")\n",
    "r\n",
    "equest\n",
    "=\n",
    "requests.get\n",
    "(\n",
    "\"http\n",
    "://viacep.com.br/ws\n",
    "/%s/\n",
    "json\n",
    "/\" \n",
    "% cep) \n",
    "print \n",
    "(\n",
    "request.text\n",
    ")"
   ]
  },
  {
   "cell_type": "code",
   "execution_count": null,
   "metadata": {
    "collapsed": true
   },
   "outputs": [],
   "source": []
  }
 ],
 "metadata": {
  "kernelspec": {
   "display_name": "Python 3",
   "language": "python",
   "name": "python3"
  },
  "language_info": {
   "codemirror_mode": {
    "name": "ipython",
    "version": 3
   },
   "file_extension": ".py",
   "mimetype": "text/x-python",
   "name": "python",
   "nbconvert_exporter": "python",
   "pygments_lexer": "ipython3",
   "version": "3.6.3"
  }
 },
 "nbformat": 4,
 "nbformat_minor": 2
}
