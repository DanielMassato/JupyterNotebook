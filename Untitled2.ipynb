{
 "cells": [
  {
   "cell_type": "code",
   "execution_count": 5,
   "metadata": {},
   "outputs": [
    {
     "name": "stdout",
     "output_type": "stream",
     "text": [
      "5\n",
      "6\n",
      "7\n",
      "8\n",
      "9\n",
      "10\n",
      "11\n"
     ]
    }
   ],
   "source": [
    "lista = [1,2,3,4,5,6,7,8,9,10,11]\n",
    "for elemento in lista:\n",
    "    if elemento < 5:\n",
    "        continue\n",
    "    print(elemento)"
   ]
  },
  {
   "cell_type": "code",
   "execution_count": 2,
   "metadata": {},
   "outputs": [
    {
     "name": "stdout",
     "output_type": "stream",
     "text": [
      "e\n",
      "d\n",
      "c\n",
      "b\n",
      "a\n"
     ]
    }
   ],
   "source": [
    "lista = ['a','b','c','d','e']\n",
    "while lista:\n",
    "    print(lista.pop())"
   ]
  },
  {
   "cell_type": "code",
   "execution_count": 23,
   "metadata": {},
   "outputs": [
    {
     "name": "stdout",
     "output_type": "stream",
     "text": [
      "digite o numero da tabuada: 8\n",
      "1 X 8 = 8\n",
      "2 X 8 = 16\n",
      "3 X 8 = 24\n",
      "4 X 8 = 32\n",
      "5 X 8 = 40\n",
      "6 X 8 = 48\n",
      "7 X 8 = 56\n",
      "8 X 8 = 64\n",
      "9 X 8 = 72\n",
      "10 X 8 = 80\n",
      "[8, 16, 24, 32, 40, 48, 56, 64, 72, 80]\n"
     ]
    }
   ],
   "source": [
    "list = []\n",
    "lista.clear() \n",
    "aux = input(\"digite o numero da tabuada: \")\n",
    "for elemento in range(1,11):\n",
    "    print ( str(elemento) + \" X \" + aux + \" = \" + str(int(aux)*elemento) )\n",
    "    lista.append((int(aux)*elemento))\n",
    "print(lista)        \n"
   ]
  },
  {
   "cell_type": "code",
   "execution_count": 31,
   "metadata": {},
   "outputs": [],
   "source": [
    "def area_retangulo(base, altura):\n",
    "    return (base*altura)"
   ]
  },
  {
   "cell_type": "code",
   "execution_count": 33,
   "metadata": {},
   "outputs": [
    {
     "data": {
      "text/plain": [
       "12"
      ]
     },
     "execution_count": 33,
     "metadata": {},
     "output_type": "execute_result"
    }
   ],
   "source": [
    "area_retangulo(3,4)"
   ]
  },
  {
   "cell_type": "code",
   "execution_count": null,
   "metadata": {
    "collapsed": true
   },
   "outputs": [],
   "source": []
  }
 ],
 "metadata": {
  "kernelspec": {
   "display_name": "Python 3",
   "language": "python",
   "name": "python3"
  },
  "language_info": {
   "codemirror_mode": {
    "name": "ipython",
    "version": 3
   },
   "file_extension": ".py",
   "mimetype": "text/x-python",
   "name": "python",
   "nbconvert_exporter": "python",
   "pygments_lexer": "ipython3",
   "version": "3.6.3"
  }
 },
 "nbformat": 4,
 "nbformat_minor": 2
}
